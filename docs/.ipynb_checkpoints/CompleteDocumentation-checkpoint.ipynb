{
 "cells": [
  {
   "cell_type": "markdown",
   "metadata": {},
   "source": [
    "<h1>PROBLEM STATEMENT</h1>\n",
    "\n",
    "RFI mitigation using deep learning."
   ]
  },
  {
   "cell_type": "markdown",
   "metadata": {},
   "source": [
    "<h1>RFI MITIGATION</h1>\n",
    "\n",
    "<b>Project Github Repository:</b> https://github.com/amateur-astronomy-club/rfi-mitigation-unet\n",
    "\n",
    "\n",
    "Interference in radio astronomy, where it is commonly referred to as radio-frequency interference (RFI), is any source of transmission that is within the observed frequency band other than the celestial sources themselves. Because transmitters on and around the Earth can be many times stronger than the astronomical signal of interest, RFI is a major concern for performing radio astronomy. Natural sources of interference, such as lightning and the Sun, are also often referred to as RFI.\n",
    "\n",
    "For Radio astronomy it's important to deal with RFI , so that we have a clear and precise information from the universe.\n",
    "\n",
    "<h3>How are we doing this ? </h3>\n",
    "\n",
    "We are using the Bleien Observatory data for this.\n",
    "\n",
    "Packages used in this project are:\n",
    "<ol>\n",
    "<li> tf_unet</li>\n",
    "    <li> tensorflow </li>\n",
    "    <li>matplotlib</li>\n",
    "    <li>HIDE</li>\n",
    "    <li>SEEK</li>\n",
    "</ol>\n",
    "\n",
    "\n"
   ]
  },
  {
   "cell_type": "markdown",
   "metadata": {},
   "source": [
    "<h2>GETTING READY:</h2>\n",
    "\n",
    "Setting up for running the project:\n",
    "<ol>\n",
    "    <li>Installing <b>HIDE</b> and <b>SEEK</b> Packages:\n",
    "        1. HIDE can be installed by following the instructions at https://hide.readthedocs.io\n",
    "        2. SEEK can be installed by following the instructions at https://seek.readthedocs.io\n",
    "    \n",
    "<li>Installing <b>tf_unet</b>:\n",
    "         Install tf_unet from https://github.com/jakeret/tf_unet.git\n",
    "         \n",
    " Follow the instructions at https://tf_unet.readthedocs.io\n",
    " </li>\n",
    "<br/>\n",
    "<li>Other dependencies are:<br/>\n",
    "    a. matplotlib<br/>\n",
    "    b. tensorflow<br/>\n",
    "    c. numpy<br/>\n",
    "    \n",
    "   These can be installed using <b>pip</b>\n",
    "    </li>\n",
    "    \n",
    "<h4>NOTE:</h4>\n",
    "After installing HIDE and SEEK to make them work, you need to copy data folder at hide/hide/data and seek/seek/data and paste it to the location where your python library files exist.\n",
    "            \n",
    "        \n"
   ]
  },
  {
   "cell_type": "markdown",
   "metadata": {},
   "source": [
    "<h3> About Tensorflow Unet : </h3><br/>\n",
    "tf_unet is a tensorflow implementation of the U-Net acrchitecture. You can read more about it here: https://tf-unet.readthedocs.io/en/latest/index.html\n",
    "\n",
    "<h3>About <b>HIDE</b> and <b>SEEK</b> :</h3><br/>\n",
    "HIDE (HI Data Emulator) & SEEK (Signal Extraction and Emission Kartographer) is a set of two independent software packages that simulate and analyze single-dish radio survey data. HIDE forward models the entire radio survey system chain, while SEEK processes simulated (or observed) survey data in a reproducible and consistent way. The two packages were developed based on data taken at the Bleien Observatory.<br/>\n",
    "\n"
   ]
  },
  {
   "cell_type": "markdown",
   "metadata": {},
   "source": [
    "<h2>Methodology :</h2>\n",
    "\n",
    "<b>Getting the data:</b><br/>\n",
    "The first step was downloading the Bleien Observatory data using the following command in the terminal.<br/>\n",
    "    ```wget -q -r -nH -np --cut-dirs=2 http://people.phys.ethz.ch/~ast/cosmo/bgs_example_data/```\n",
    "\n",
    "<b>Processing downloaded data using SEEK:</b><br/>\n",
    "We used SEEK package to process this data using the following command.<br/>\n",
    "    ```seek --file-prefix='./bgs_example_data' --post-processing-prefix='bgs_example_data/seek_cache' --chi-1=20 --overwrite=True seek.config.process_survey_fft```\n",
    "    \n",
    "    This command only processes the first file in the folder so we had to improvise.\n",
    "    Use the python file \"process_data.py\" and follow the instructions in it to process all the data using seek.<br/>\n",
    "\n",
    "<b>Visualization:</b><br/>\n",
    "After this we visualized the process data using plots. Follow the instructions in the file \"visual.py\" for the visualization.<br/>\n",
    "\n",
    "<b>Generating data using HIDE:</b><br/>\n",
    "We also generated data using the HIDE package which is again based on the Bleien Observatory data. To generate data using HIDE run the following command in your terminal.<br/>\n",
    "    ```hide --strategy-start=2016-03-21-00:00:00 --strategy-end=2016-03-21-23:59:00 --verbose=True hide.config.bleien7m```\n",
    "    \n",
    "    This command will only generate one day's worth of data to generate data in a different time period we just need to change the \"--strategy-start\" and \"--strategy-end parameters\".<br/>\n",
    " \n",
    "<b>Processing generated data using SEEK:</b><br/>\n",
    "For processing the data generated using HIDE we need to change a config file in SEEK.<br/>\n",
    "    The SEEK config file is process_survey_fft.py . This file is at the location \"seek/seek/conifig\", where the folder seek is the github repository we have cloned earlier.\n",
    "\n",
    "    In the process_survey_fft.py file on line 48 change the value of the variable \"data_file_prefix\" to the regular expression of the file name generated from HIDE.The processed data can then be visualized in a similar manner as\n",
    "    mentioned above\n",
    " \n",
    "<b>Training the U-Net:</b><br/> \n",
    "The next step is training the U-Net. Follow the instructions in \"training_unet.py\" for training the network.<br/>\n",
    "\n",
    "<b>Prediction using the trained U-Net:</b><br/> \n",
    "The next step is prediction. This is done by initializing the U-Net to the parameters learned by the network during training and feeding it data not seen before by the network. Follow the instructions in \"predict.py\" for prediction.\n",
    " \n",
    "    \n"
   ]
  },
  {
   "cell_type": "markdown",
   "metadata": {
    "collapsed": true
   },
   "source": [
    "<h2>Results:</h2>"
   ]
  },
  {
   "cell_type": "markdown",
   "metadata": {},
   "source": [
    "From the predictions, we can see that the trained U-Net network performs RFI mitigation almost as well as SEEK does. The model can still be improved by using a bigger dataset to train the network and optimizing the hyper-parameters. The network is capable of performing mitigation on par with SEEK and maybe even better."
   ]
  },
  {
   "cell_type": "markdown",
   "metadata": {},
   "source": [
    "<h2>Future Prospects:</h2>"
   ]
  },
  {
   "cell_type": "markdown",
   "metadata": {},
   "source": [
    "The U-Net architecture is designed especially for image segmentation tasks. The network has many applications in the field of astronomy, such as image segmentation of the night sky, i.e. the network can be trained to recognize stars and galaxies from an image of the night sky. The network also has extensive applications in the field of biology also, such as recognizing cancer cells."
   ]
  },
  {
   "cell_type": "code",
   "execution_count": null,
   "metadata": {
    "collapsed": true
   },
   "outputs": [],
   "source": []
  }
 ],
 "metadata": {
  "anaconda-cloud": {},
  "kernelspec": {
   "display_name": "Python [conda env:tf]",
   "language": "python",
   "name": "conda-env-tf-py"
  },
  "language_info": {
   "codemirror_mode": {
    "name": "ipython",
    "version": 3
   },
   "file_extension": ".py",
   "mimetype": "text/x-python",
   "name": "python",
   "nbconvert_exporter": "python",
   "pygments_lexer": "ipython3",
   "version": "3.5.2"
  }
 },
 "nbformat": 4,
 "nbformat_minor": 2
}
